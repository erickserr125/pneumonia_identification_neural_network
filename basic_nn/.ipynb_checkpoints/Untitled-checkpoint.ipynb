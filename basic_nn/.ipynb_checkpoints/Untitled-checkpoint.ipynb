{
 "cells": [
  {
   "cell_type": "markdown",
   "id": "e58bae8d",
   "metadata": {},
   "source": [
    "Suppose we have one output and two inpute nodes, such that \n",
    "\n",
    "$$\n",
    "\\{x_1,x_2\\} \\rightarrow y\n",
    "$$\n",
    "\n",
    "Where we use the function $f(x)$ to convert the features into $y$. Let's have the following mapping:\n",
    "\n",
    "\\begin{tabular}{c|c}\n",
    " $x_1x_2$ & y\\\\\n",
    " 00 & 0\\\\\n",
    " 01 & 1\\\\\n",
    " 10 & 0\\\\\n",
    " 11 & 0\n",
    "\\end{tabular}"
   ]
  },
  {
   "cell_type": "code",
   "execution_count": null,
   "id": "c58c2c8c",
   "metadata": {},
   "outputs": [],
   "source": [
    "\n"
   ]
  }
 ],
 "metadata": {
  "kernelspec": {
   "display_name": "Python 3",
   "language": "python",
   "name": "python3"
  },
  "language_info": {
   "codemirror_mode": {
    "name": "ipython",
    "version": 3
   },
   "file_extension": ".py",
   "mimetype": "text/x-python",
   "name": "python",
   "nbconvert_exporter": "python",
   "pygments_lexer": "ipython3",
   "version": "3.7.3"
  }
 },
 "nbformat": 4,
 "nbformat_minor": 5
}
