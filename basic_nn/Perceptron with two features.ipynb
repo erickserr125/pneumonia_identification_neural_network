{
 "cells": [
  {
   "cell_type": "markdown",
   "id": "ffc37a40",
   "metadata": {},
   "source": [
    "Suppose we have one output and two inpute nodes, such that \n",
    "\n",
    "$$\n",
    "\\{x_1,x_2\\} \\rightarrow y\n",
    "$$\n",
    "\n",
    "Where we use the function $z(f(x))$ to convert the features into $y$. Let's have the following mapping:\n",
    "\n",
    "| $x_1\\ x_2$ | y |\n",
    "|---|---|\n",
    "|$00$|0|\n",
    "|$01$|0|\n",
    "|$10$|1|\n",
    "|$11$|0|\n",
    "\n",
    "Suppose we have $10$ random examples of this mapping:"
   ]
  },
  {
   "cell_type": "code",
   "execution_count": 49,
   "id": "a4c312c7",
   "metadata": {},
   "outputs": [],
   "source": [
    "import numpy as np\n",
    "import matplotlib.pyplot as plt\n",
    "x = np.random.randint(2,size=(2,10))\n",
    "y = np.empty((0,0))\n",
    "for i in x[0,:]:\n",
    "    if(i==2):\n",
    "        y = np.append(y,1)\n",
    "    else:\n",
    "        y = np.append(y,0)\n",
    "x = x.reshape(x.shape[0],x.shape[1])\n",
    "y = y.reshape(1,y.shape[0])"
   ]
  },
  {
   "cell_type": "code",
   "execution_count": 79,
   "id": "b7f1e62d",
   "metadata": {},
   "outputs": [
    {
     "name": "stdout",
     "output_type": "stream",
     "text": [
      "(2, 10)\n",
      "(1, 10)\n",
      "[0 1]\n"
     ]
    }
   ],
   "source": [
    "print(x.shape)\n",
    "print(y.shape)\n",
    "print(x[:,0]) #Training example 1"
   ]
  },
  {
   "cell_type": "markdown",
   "id": "ebe04a45",
   "metadata": {},
   "source": [
    "If we want to implement a neural network to map this properly, we begin by setting up the architecture of forward propagation, which is, firstly:\n",
    "\n",
    "$$\n",
    "f(x_i) = w_ix_i + b_i\n",
    "$$\n",
    "where $w_i,\\ b_i$ are randomly set, for every input feature $i$ in the layer."
   ]
  },
  {
   "cell_type": "code",
   "execution_count": 51,
   "id": "58b9631a",
   "metadata": {},
   "outputs": [],
   "source": [
    "def initialize_parameters(layer_dims):\n",
    "    \"\"\"\n",
    "    Function: initialize_parameters\n",
    "    The function creates $n$ weights & biases per layer, \n",
    "    where $n$ is the number of nodes in layer $l$. \n",
    "    The list of weights & biases are stored in `parameters`\n",
    "    \"\"\"\n",
    "    parameters = {}\n",
    "    L = len(layer_dims) #Number of layers in the network\n",
    "    \n",
    "    for l in range(1,L):\n",
    "        parameters['W'+str(l)] = np.random.randn(layer_dims[l], layer_dims[l-1])*.01\n",
    "        parameters['b'+str(l)] = np.random.randn(layer_dims[l],1)\n",
    "        \n",
    "        assert(parameters['W'+str(l)].shape == (layer_dims[l],layer_dims[l-1]))\n",
    "        assert(parameters['b'+str(l)].shape == (layer_dims[l], 1))\n",
    "        \n",
    "        \n",
    "    return parameters"
   ]
  },
  {
   "cell_type": "code",
   "execution_count": 52,
   "id": "7341e17b",
   "metadata": {},
   "outputs": [],
   "source": [
    "def linear_forward(X, W, b):\n",
    "    \"\"\"\n",
    "    Function: linear_forward\n",
    "    Computes f(x_i) = w_ix_i + b_i for all nodes $i$ in a single layer\n",
    "    \"\"\"    \n",
    "    #Calculate Z in Neuron\n",
    "    Z = np.dot(W, X) + b\n",
    "\n",
    "    assert(Z.shape == (W.shape[0], X.shape[1]))\n",
    "    \n",
    "    #Save cache for backward propogation    \n",
    "    cache = (X, W, b)\n",
    "    \n",
    "    return Z, cache"
   ]
  },
  {
   "cell_type": "markdown",
   "id": "d26674bb",
   "metadata": {},
   "source": [
    "After that, we reach the output layer, for which we use the `activation function` $z(f(x_i)$ such that\n",
    "\n",
    "$$\n",
    "z(f(x_i)) = \\frac{1}{1+e^{-f(x_i)}}\n",
    "$$\n",
    "\n",
    "From there, we estimate that the result $y$ is $1$ if $z(f(x_i))>0.5$; otherwise, $y=0$.\n"
   ]
  },
  {
   "cell_type": "code",
   "execution_count": 53,
   "id": "ef54b718",
   "metadata": {},
   "outputs": [],
   "source": [
    "def sigmoid(f):\n",
    "    return 1/(1+np.exp(-f))\n",
    "\n",
    "def activation_forward(A_prev, W, b):\n",
    "    \"\"\"\n",
    "    Calculates z(f(x_i)) = (1/(1+e^{-f(x_i)}))\n",
    "    For a single layer\n",
    "    \"\"\"\n",
    "    Z, linear_cache = linear_forward(A_prev, W, b)\n",
    "    A = sigmoid(Z)\n",
    "        \n",
    "    assert(A.shape == (W.shape[0], A_prev.shape[1]))\n",
    "    cache = (linear_cache, Z)\n",
    "    return A, cache"
   ]
  },
  {
   "cell_type": "markdown",
   "id": "cd36ebc1",
   "metadata": {},
   "source": [
    "Placing it all together, we have the forward propagation function"
   ]
  },
  {
   "cell_type": "code",
   "execution_count": 54,
   "id": "0032abd3",
   "metadata": {},
   "outputs": [],
   "source": [
    "def forward_propogation(X, parameters):\n",
    "    caches = []\n",
    "    A = X\n",
    "    L = len(parameters)//2\n",
    "       \n",
    "    for l in range(1, L):\n",
    "        A_prev = A\n",
    "        A, cache = activation_forward(A_prev, parameters[\"W\"+str(l)], parameters[\"b\"+str(l)])\n",
    "        caches.append(cache)\n",
    "    \n",
    "    #Compute final prediction\n",
    "    AL, cache = activation_forward(A, parameters[\"W\"+str(L)], parameters[\"b\"+str(L)])\n",
    "    caches.append(cache)\n",
    "    assert(AL.shape == (1,X.shape[1]))\n",
    "    \n",
    "    return AL, caches"
   ]
  },
  {
   "cell_type": "markdown",
   "id": "71cc8aed",
   "metadata": {},
   "source": [
    "# Cost Function\n",
    "\n",
    "Now, we must compute the cost function, which is calculated by\n",
    "$$\n",
    "J = (-1/m) * (\\sum_{i}^m y^{i} log(PredictionX^{i}) + (1-y^i)log(1-PredictionX^i),\n",
    "$$\n",
    "where $m=1000$, $y^i$ is our labelled data, and $predictionX^i$ is our neural network prediction, for all training examples $i$ ($i=2$).\n"
   ]
  },
  {
   "cell_type": "code",
   "execution_count": 55,
   "id": "403ffc7b",
   "metadata": {},
   "outputs": [],
   "source": [
    "def compute_cost(A_final, Y):\n",
    "    \"\"\"\n",
    "    #Cost function\n",
    "    def compute_cost()\n",
    "\n",
    "    Implement loss function for binary classifcation:\n",
    "    -1/m sum(Ylog(A) + (1-Y)log(1-A))\n",
    "    \"\"\"\n",
    "    m = Y.shape[1]\n",
    "    \n",
    "    \n",
    "    cost = -1/m * np.sum(Y*np.log(A_final) + (1-Y)*np.log(1-A_final))\n",
    "    \n",
    "    cost = np.squeeze(cost)\n",
    "    assert(cost.shape == ())\n",
    "    \n",
    "    return cost\n"
   ]
  },
  {
   "cell_type": "markdown",
   "id": "db14654f",
   "metadata": {},
   "source": [
    "# Backpropagation\n",
    "\n",
    "Now, we must modify our parameters, $w_i,b_i$ to increase the accuracy of our predictions, $PredictionX^i$. To modify the functions, we take the derivatives of $a_l$ with respect to $w_i,b_i$, and then store them as `gradients`"
   ]
  },
  {
   "cell_type": "code",
   "execution_count": 56,
   "id": "53fa3731",
   "metadata": {},
   "outputs": [],
   "source": [
    "\"\"\"\n",
    "#Backward propogation\n",
    "def  linear_backward()\n",
    "calculate gradients (derivatives) of a layer,i, \n",
    "\"\"\"\n",
    "\n",
    "def linear_backward(dZ, cache):\n",
    "    \n",
    "    A_prev, W, b = cache\n",
    "    m = A_prev.shape[1]\n",
    "    \n",
    "    \n",
    "    dW = np.dot(dZ, A_prev.T)/m\n",
    "    db = np.sum(dZ, axis = 1, keepdims = True)/m\n",
    "    dA_prev = np.dot(W.T,dZ)\n",
    "    \n",
    "    \n",
    "    assert(dA_prev.shape == A_prev.shape)\n",
    "    assert(dW.shape == W.shape)\n",
    "    assert(db.shape == b.shape)\n",
    "    \n",
    "    return dA_prev, dW, db"
   ]
  },
  {
   "cell_type": "code",
   "execution_count": 57,
   "id": "97395e7a",
   "metadata": {},
   "outputs": [],
   "source": [
    "\"\"\"\n",
    "#Backward propogation\n",
    "activation_backward(dA, cache, activation):\n",
    "Calculate derivatives of activation function & Z for a given layer, i\n",
    "\"\"\"\n",
    "\n",
    "def activation_backward(dA, cache):\n",
    "    \n",
    "    linear_cache, activation_cache = cache #(A, W, b) & (Z)\n",
    "\n",
    "    s = sigmoid(activation_cache)\n",
    "    dZ = dA* s*(1-s)\n",
    "    dA_prev, dW, db = linear_backward(dZ, linear_cache)\n",
    "\n",
    "\n",
    "    \n",
    "    return dA_prev, dW, db"
   ]
  },
  {
   "cell_type": "markdown",
   "id": "5d7fb657",
   "metadata": {},
   "source": [
    "You can clearly see that there's a resemblance in structure to forward propagation(that's because there is). You might be able to guess that we place these two functions together to create a general function for back-propagation: "
   ]
  },
  {
   "cell_type": "code",
   "execution_count": 58,
   "id": "129a6e7e",
   "metadata": {},
   "outputs": [],
   "source": [
    "\"\"\"\n",
    "#Backward propogation\n",
    "combine activation & linear backwardpropogation gradients across all layers\n",
    "\"\"\"\n",
    "\n",
    "def backward_propogation(AL, Y, caches):\n",
    "    grads = {}\n",
    "    L = len(caches) #Number of layers\n",
    "    m = AL.shape[1]\n",
    "    Y = Y.reshape(AL.shape)\n",
    "    \n",
    "    #Derivative of loss function in compute_cost()\n",
    "    dAL = -(np.divide(Y,AL) - np.divide(1-Y, 1-AL))\n",
    "    \n",
    "    #Compute sigmoid derivative\n",
    "    current_cache = caches[L-1]\n",
    "    grads[\"dA\"+str(L-1)], grads[\"dW\"+str(L)],grads[\"db\"+str(L)] = activation_backward(dAL, current_cache)\n",
    "    \n",
    "    for l in reversed(range(L-1)):\n",
    "        current_cache = caches[l]\n",
    "        dA_prev_temp, dW_temp, db_temp = activation_backward(grads[\"dA\"+str(l+1)],current_cache)\n",
    "        grads[\"dA\"+str(l)] = dA_prev_temp\n",
    "        grads[\"dW\"+str(l+1)] = dW_temp\n",
    "        grads[\"db\"+str(l+1)] = db_temp\n",
    "        \n",
    "    return grads"
   ]
  },
  {
   "cell_type": "markdown",
   "id": "66e6decb",
   "metadata": {},
   "source": [
    "# Gradient Descent\n",
    "\n",
    "Finally, we apply gradient descent to iteratively execute these steps (forward-propagation, cost measurement, backward-propagation)."
   ]
  },
  {
   "cell_type": "code",
   "execution_count": 59,
   "id": "0c324fa8",
   "metadata": {},
   "outputs": [],
   "source": [
    "\n",
    "\"\"\"\n",
    "#Gradient Descent\n",
    "def update_parameters()\n",
    "\n",
    "modify the weights & biases based on backward_propogation\n",
    "\"\"\"\n",
    "\n",
    "def update_parameters(parameters ,grads, learning_rate):\n",
    "    \n",
    "    L = len(parameters)//2\n",
    "    \n",
    "    for l in range(L):\n",
    "        parameters[\"W\" + str(l+1)] -= learning_rate *grads[\"dW\"+str(l+1)]\n",
    "        parameters[\"b\" + str(l+1)] -= learning_rate*grads[\"db\"+str(l+1)]\n",
    "    return parameters\n",
    "        "
   ]
  },
  {
   "cell_type": "markdown",
   "id": "62263da0",
   "metadata": {},
   "source": [
    "The complete model then becomes a combination of every function we just used"
   ]
  },
  {
   "cell_type": "code",
   "execution_count": 66,
   "id": "b339339d",
   "metadata": {},
   "outputs": [],
   "source": [
    "\"\"\"\n",
    "#Neural Network \n",
    "\n",
    "Combine all helper functions (forward_propogation, backward_propogation, compute_cost, update_parameters)\n",
    "To create an L-layer Neural Network\n",
    "\"\"\"\n",
    "\n",
    "def L_layer_model(X, Y, layer_dims, learning_rate, num_iterations, print_cost = False):\n",
    "    costs = [] # Keep track of cost to plot later\n",
    "    \n",
    "    parameters = initialize_parameters(layer_dims)\n",
    "    \n",
    "    \n",
    "    for i in range(0, num_iterations):\n",
    "        #Forward prop\n",
    "        AL,caches = forward_propogation(X,parameters)\n",
    "        \n",
    "        #Cost function\n",
    "        cost = compute_cost(AL,Y)\n",
    "        \n",
    "        #Backward prop\n",
    "        grads = backward_propogation(AL,Y,caches)\n",
    "        \n",
    "\n",
    "        parameters = update_parameters(parameters,grads,learning_rate)\n",
    "        \n",
    "        if print_cost and i%1 == 0:\n",
    "            print(\"Cost after iteration {}: {}\".format(i, np.squeeze(cost)))\n",
    "            costs.append(cost)\n",
    "            \n",
    "    plt.plot(np.squeeze(costs))\n",
    "    plt.ylabel('cost')\n",
    "    plt.xlabel('iterations')\n",
    "    plt.title(\"Learning rate = \"+str(learning_rate))\n",
    "    plt.show()\n",
    "    \n",
    "    return parameters\n"
   ]
  },
  {
   "cell_type": "markdown",
   "id": "6fccf33e",
   "metadata": {},
   "source": [
    "# Training"
   ]
  },
  {
   "cell_type": "code",
   "execution_count": 74,
   "id": "76710a67",
   "metadata": {},
   "outputs": [
    {
     "name": "stdout",
     "output_type": "stream",
     "text": [
      "How many Neural Networks are we training:  5\n",
      "List of Learning Rates:  [0.1, 0.015, 1, 0.05, 0.001]\n",
      "List of Layers dimensions [[2, 1], [2, 1], [2, 1], [2, 1], [2, 1]]\n",
      "Cost after iteration 0: 1.3205545662225138\n",
      "Cost after iteration 1: 1.2334125542296481\n",
      "Cost after iteration 2: 1.1523650113022101\n",
      "Cost after iteration 3: 1.0772775191148956\n",
      "Cost after iteration 4: 1.007944837405769\n",
      "Cost after iteration 5: 0.9441038856062708\n",
      "Cost after iteration 6: 0.885448350708617\n",
      "Cost after iteration 7: 0.8316434210473956\n",
      "Cost after iteration 8: 0.7823394329572297\n",
      "Cost after iteration 9: 0.7371836175529604\n"
     ]
    },
    {
     "data": {
      "image/png": "[encoded data removed]",
      "text/plain": [
       "<Figure size 432x288 with 1 Axes>"
      ]
     },
     "metadata": {
      "needs_background": "light"
     },
     "output_type": "display_data"
    },
    {
     "name": "stdout",
     "output_type": "stream",
     "text": [
      "Cost after iteration 0: 0.44263191115332284\n",
      "Cost after iteration 1: 0.43947488523118355\n",
      "Cost after iteration 2: 0.43635558186347895\n",
      "Cost after iteration 3: 0.43327344394547407\n",
      "Cost after iteration 4: 0.43022792288634504\n",
      "Cost after iteration 5: 0.42721847851164124\n",
      "Cost after iteration 6: 0.42424457896475354\n",
      "Cost after iteration 7: 0.42130570060752526\n",
      "Cost after iteration 8: 0.41840132792014195\n",
      "Cost after iteration 9: 0.4155309534004248\n"
     ]
    },
    {
     "data": {
      "image/png": "[encoded data removed]",
      "text/plain": [
       "<Figure size 432x288 with 1 Axes>"
      ]
     },
     "metadata": {
      "needs_background": "light"
     },
     "output_type": "display_data"
    },
    {
     "name": "stdout",
     "output_type": "stream",
     "text": [
      "Cost after iteration 0: 0.6266001935209152\n",
      "Cost after iteration 1: 0.3424688107418953\n",
      "Cost after iteration 2: 0.23312963437772113\n",
      "Cost after iteration 3: 0.1775081795015726\n",
      "Cost after iteration 4: 0.14387405187599053\n",
      "Cost after iteration 5: 0.12128605825391237\n",
      "Cost after iteration 6: 0.1050301802219203\n",
      "Cost after iteration 7: 0.092746528468159\n",
      "Cost after iteration 8: 0.0831224467065616\n",
      "Cost after iteration 9: 0.07536884983129899\n"
     ]
    },
    {
     "data": {
      "image/png": "[encoded data removed]",
      "text/plain": [
       "<Figure size 432x288 with 1 Axes>"
      ]
     },
     "metadata": {
      "needs_background": "light"
     },
     "output_type": "display_data"
    },
    {
     "name": "stdout",
     "output_type": "stream",
     "text": [
      "Cost after iteration 0: 1.137004403878004\n",
      "Cost after iteration 1: 1.0993116811936172\n",
      "Cost after iteration 2: 1.0630588305429425\n",
      "Cost after iteration 3: 1.0282177996421207\n",
      "Cost after iteration 4: 0.9947571822952868\n",
      "Cost after iteration 5: 0.9626426509954616\n",
      "Cost after iteration 6: 0.9318373985422327\n",
      "Cost after iteration 7: 0.9023025783675482\n",
      "Cost after iteration 8: 0.8739977344311891\n",
      "Cost after iteration 9: 0.8468812129352559\n"
     ]
    },
    {
     "data": {
      "image/png": "[encoded data removed]",
      "text/plain": [
       "<Figure size 432x288 with 1 Axes>"
      ]
     },
     "metadata": {
      "needs_background": "light"
     },
     "output_type": "display_data"
    },
    {
     "name": "stdout",
     "output_type": "stream",
     "text": [
      "Cost after iteration 0: 1.5695889770691949\n",
      "Cost after iteration 1: 1.5685557181762506\n",
      "Cost after iteration 2: 1.5675230547068888\n",
      "Cost after iteration 3: 1.5664909868133239\n",
      "Cost after iteration 4: 1.5654595146469648\n",
      "Cost after iteration 5: 1.5644286383584145\n",
      "Cost after iteration 6: 1.5633983580974686\n",
      "Cost after iteration 7: 1.562368674013119\n",
      "Cost after iteration 8: 1.5613395862535464\n",
      "Cost after iteration 9: 1.5603110949661256\n"
     ]
    },
    {
     "data": {
      "image/png": "[encoded data removed]",
      "text/plain": [
       "<Figure size 432x288 with 1 Axes>"
      ]
     },
     "metadata": {
      "needs_background": "light"
     },
     "output_type": "display_data"
    }
   ],
   "source": [
    "\"\"\"\n",
    "Train a random set of Neural Networks to see best performance\n",
    "\"\"\"\n",
    "#Constant parameters\n",
    "input_size = x.shape[0]\n",
    "output_size = 1\n",
    "iterations = 10\n",
    "\n",
    "#Creating of list of hyperparameters to try\n",
    "#Best performing set of hyperparameters\n",
    "#list_of_h_layers = [25, 35, 35, 25, 30, 30]\n",
    "learning_rate_list = [0.1,.015,1,.05,.001] #Best learning rates received so far\n",
    "layer_list = []\n",
    "\n",
    "\n",
    "parameters = [] #Stores the trained parameters\n",
    "\n",
    "#Commented out nested for loop after determining \n",
    "#the best hyperparameters\n",
    "for i in range (len(learning_rate_list)):#Number of neural networks\n",
    "    layer_dims = [input_size]\n",
    "#    layer_dims.append(list_of_h_layers[i])\n",
    "#    for y in range(1): #Number of hidden layers in test case x\n",
    "#        hidden_layer_size.append(randint(10,40))\n",
    "#        layer_dims.append(hidden_layer_size[y])\n",
    "    \n",
    "    layer_dims.append(output_size)\n",
    "    #list_of_h_layers.append(hidden_layer_size)#add to the list\n",
    "    layer_list.append(layer_dims)\n",
    "#    learning_rate_list.append(randint(1,100)/1000)#Find the best learning rate\n",
    "\n",
    "print(\"How many Neural Networks are we training: \", len(learning_rate_list))\n",
    "print(\"List of Learning Rates: \", learning_rate_list)\n",
    "print(\"List of Layers dimensions\", layer_list)\n",
    "\n",
    "\n",
    "#Test Neural Networks with differing hyperparameters\n",
    "for i in range(len(layer_list)):\n",
    "    parameters.append(L_layer_model(x, y, layer_list[i], learning_rate_list[i],iterations, True))"
   ]
  },
  {
   "cell_type": "markdown",
   "id": "25493980",
   "metadata": {},
   "source": [
    "The ideal parameters in this case all converge to"
   ]
  },
  {
   "cell_type": "code",
   "execution_count": 75,
   "id": "1bcfe518",
   "metadata": {},
   "outputs": [
    {
     "name": "stdout",
     "output_type": "stream",
     "text": [
      "{'W1': array([[-0.0356833 , -0.01995476]]), 'b1': array([[-0.63878465]])}\n",
      "{'W1': array([[-1.01884177, -0.57957943]]), 'b1': array([[-1.85213391]])}\n",
      "{'W1': array([[-0.21496577, -0.12662243]]), 'b1': array([[0.43894846]])}\n",
      "{'W1': array([[-0.02703545, -0.01516906]]), 'b1': array([[1.34816663]])}\n"
     ]
    }
   ],
   "source": [
    "for i in range(1,len(parameters)):\n",
    "    print(parameters[i])"
   ]
  },
  {
   "cell_type": "markdown",
   "id": "b7e29af1",
   "metadata": {},
   "source": [
    "We can use these parameters to predict our variables now that we've trained the functions"
   ]
  },
  {
   "cell_type": "code",
   "execution_count": 76,
   "id": "ab93738a",
   "metadata": {},
   "outputs": [],
   "source": [
    "#Function to predict with TRAINED NEURAL NETWORKS\n",
    "def predict(X, Y, parameters):\n",
    "    m = X.shape[1]\n",
    "    n = len(parameters) //2 #Number of layers in the neural network\n",
    "    \n",
    "    results, caches = forward_propogation(X, parameters)\n",
    "    results = results//(0.5) #Floor divide .5 & receive 1's & 0's\n",
    "    \n",
    "    \n",
    "    accuracy = np.sum((results==Y)/m)\n",
    "    \n",
    "    \n",
    "   # print(\"Accuracy: \" + str(accuracy))\n",
    "    \n",
    "    return results, accuracy"
   ]
  },
  {
   "cell_type": "markdown",
   "id": "aa7788b0",
   "metadata": {},
   "source": [
    "Recall the table mapping\n",
    "\n",
    "| $x_1\\ x_2$ | y |\n",
    "|---|---|\n",
    "|$00$|0|\n",
    "|$01$|0|\n",
    "|$10$|1|\n",
    "|$11$|0|\n",
    "\n",
    "Now we will create $10,000$ examples of this function to see if our neural network has correctly implemented the function."
   ]
  },
  {
   "cell_type": "code",
   "execution_count": 77,
   "id": "f93ca0db",
   "metadata": {},
   "outputs": [],
   "source": [
    "\"\"\"\n",
    "Creating the test set of 10000\n",
    "\"\"\"\n",
    "\n",
    "test_x = np.random.randint(2,size=(2,10000))\n",
    "test_y = np.empty((0,0))\n",
    "for i in test_x[0,:]:\n",
    "    if(i==2):\n",
    "        test_y = np.append(test_y,1)\n",
    "    else:\n",
    "        test_y = np.append(test_y,0)\n",
    "test_x = test_x.reshape(test_x.shape[0],test_x.shape[1])\n",
    "test_y = test_y.reshape(1,test_y.shape[0])"
   ]
  },
  {
   "cell_type": "code",
   "execution_count": 78,
   "id": "5d642808",
   "metadata": {},
   "outputs": [
    {
     "name": "stdout",
     "output_type": "stream",
     "text": [
      "Architecture 1 is: 49.82000000000001% accurate on test set\n",
      "Architecture 2 is: 100.00000000000004% accurate on test set\n",
      "Architecture 3 is: 100.00000000000004% accurate on test set\n",
      "Architecture 4 is: 0.0% accurate on test set\n",
      "Architecture 5 is: 0.0% accurate on test set\n"
     ]
    }
   ],
   "source": [
    "p_test_list = []\n",
    "accuracy_test_list = []\n",
    "\n",
    "for i in parameters:\n",
    "        p_test, accuracy_test = predict(test_x, test_y, i)\n",
    "        \n",
    "        p_test_list.append(p_test)\n",
    "        \n",
    "        accuracy_test_list.append(accuracy_test)\n",
    "        \n",
    "#Print accuracy of Neural Networks on test set\n",
    "i = 0\n",
    "for accuracy in accuracy_test_list:\n",
    "    i += 1\n",
    "    guess = \"Architecture \" + str(i) + \" is: \" + str(accuracy*100) + \"% accurate on test set\"\n",
    "    print(guess)"
   ]
  },
  {
   "cell_type": "code",
   "execution_count": null,
   "id": "18b520e7",
   "metadata": {},
   "outputs": [],
   "source": []
  },
  {
   "cell_type": "code",
   "execution_count": null,
   "id": "f0cd85d5",
   "metadata": {},
   "outputs": [],
   "source": []
  }
 ],
 "metadata": {
  "kernelspec": {
   "display_name": "Python 3",
   "language": "python",
   "name": "python3"
  },
  "language_info": {
   "codemirror_mode": {
    "name": "ipython",
    "version": 3
   },
   "file_extension": ".py",
   "mimetype": "text/x-python",
   "name": "python",
   "nbconvert_exporter": "python",
   "pygments_lexer": "ipython3",
   "version": "3.7.3"
  }
 },
 "nbformat": 4,
 "nbformat_minor": 5
}
