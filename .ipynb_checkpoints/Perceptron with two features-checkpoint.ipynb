{
 "cells": [
  {
   "cell_type": "markdown",
   "id": "c91941f6",
   "metadata": {},
   "source": [
    "Suppose we have one output and two inpute nodes, such that \n",
    "\n",
    "$$\n",
    "\\{x_1,x_2\\} \\rightarrow y\n",
    "$$\n",
    "\n",
    "Where we use the function $z(f(x))$ to convert the features into $y$. Let's have the following mapping:\n",
    "\n",
    "| x | y |\n",
    "|---|---|\n",
    "|00|0|\n",
    "|01|0|\n",
    "|10|1|\n",
    "|11|0|"
   ]
  },
  {
   "cell_type": "markdown",
   "id": "59ce85d7",
   "metadata": {},
   "source": [
    "If we want to implement a neural network to map this properly, we begin by setting up the architecture of forward propagation, which is, firstly:\n",
    "\n",
    "$$\n",
    "f(x_i) = w_ix_i + b_i\n",
    "$$\n",
    "where $w_i,\\ b_i$ are randomly set. "
   ]
  },
  {
   "cell_type": "code",
   "execution_count": null,
   "id": "67cad4bd",
   "metadata": {},
   "outputs": [],
   "source": [
    "def create_parameters(nodes,layers)"
   ]
  },
  {
   "cell_type": "markdown",
   "id": "d3de5f06",
   "metadata": {},
   "source": [
    "For all $i$ (in this case $i=2$). After that, we reach the output layer, for which we use the `activation function` $z(f(x_i)$ such that\n",
    "\n",
    "$$\n",
    "z(f(x_i)) = \\frac{1}{1+e^{-f(x_i)}}\n",
    "$$\n",
    "\n",
    "From there, we estimate that the result $y$ is $1$ if $z(f(x_i))>0.5$; otherwise, $y=0$.\n"
   ]
  }
 ],
 "metadata": {
  "kernelspec": {
   "display_name": "Python 3",
   "language": "python",
   "name": "python3"
  },
  "language_info": {
   "codemirror_mode": {
    "name": "ipython",
    "version": 3
   },
   "file_extension": ".py",
   "mimetype": "text/x-python",
   "name": "python",
   "nbconvert_exporter": "python",
   "pygments_lexer": "ipython3",
   "version": "3.7.3"
  }
 },
 "nbformat": 4,
 "nbformat_minor": 5
}
